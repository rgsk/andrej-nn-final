{
 "cells": [
  {
   "cell_type": "code",
   "execution_count": 26,
   "metadata": {},
   "outputs": [],
   "source": [
    "import torch\n",
    "import torch.nn.functional as F\n",
    "import matplotlib.pyplot as plt"
   ]
  },
  {
   "cell_type": "code",
   "execution_count": 27,
   "metadata": {},
   "outputs": [
    {
     "data": {
      "text/plain": [
       "['emma', 'olivia', 'ava', 'isabella', 'sophia', 'charlotte', 'mia', 'amelia']"
      ]
     },
     "execution_count": 27,
     "metadata": {},
     "output_type": "execute_result"
    }
   ],
   "source": [
    "words = open('names.txt', 'r').read().splitlines()\n",
    "words[:8]"
   ]
  },
  {
   "cell_type": "code",
   "execution_count": 28,
   "metadata": {},
   "outputs": [
    {
     "data": {
      "text/plain": [
       "32033"
      ]
     },
     "execution_count": 28,
     "metadata": {},
     "output_type": "execute_result"
    }
   ],
   "source": [
    "len(words)"
   ]
  },
  {
   "cell_type": "code",
   "execution_count": 29,
   "metadata": {},
   "outputs": [
    {
     "name": "stdout",
     "output_type": "stream",
     "text": [
      "{1: 'a', 2: 'b', 3: 'c', 4: 'd', 5: 'e', 6: 'f', 7: 'g', 8: 'h', 9: 'i', 10: 'j', 11: 'k', 12: 'l', 13: 'm', 14: 'n', 15: 'o', 16: 'p', 17: 'q', 18: 'r', 19: 's', 20: 't', 21: 'u', 22: 'v', 23: 'w', 24: 'x', 25: 'y', 26: 'z', 0: '.'}\n",
      "27\n"
     ]
    }
   ],
   "source": [
    "chars = [chr(i) for i in range(97, 97 + 26)]\n",
    "stoi = {s: i + 1 for i,s in enumerate(chars)}\n",
    "stoi['.'] = 0\n",
    "itos = {i:s for s,i in stoi.items()}\n",
    "vocab_size = len(itos)\n",
    "\n",
    "print(itos)\n",
    "print(vocab_size)"
   ]
  },
  {
   "cell_type": "code",
   "execution_count": 30,
   "metadata": {},
   "outputs": [
    {
     "name": "stdout",
     "output_type": "stream",
     "text": [
      "torch.Size([182625, 3]) torch.Size([182625])\n",
      "torch.Size([22655, 3]) torch.Size([22655])\n",
      "torch.Size([22866, 3]) torch.Size([22866])\n"
     ]
    }
   ],
   "source": [
    "# build the dataset\n",
    "block_size = 3 # context length: how many characters do we take to predict the next one?\n",
    "\n",
    "def build_dataset(words):  \n",
    "  X, Y = [], []\n",
    "  for w in words:\n",
    "\n",
    "    #print(w)\n",
    "    context = [0] * block_size\n",
    "    for ch in w + '.':\n",
    "      ix = stoi[ch]\n",
    "      X.append(context)\n",
    "      Y.append(ix)\n",
    "      #print(''.join(itos[i] for i in context), '--->', itos[ix])\n",
    "      context = context[1:] + [ix] # crop and append\n",
    "\n",
    "  X = torch.tensor(X)\n",
    "  Y = torch.tensor(Y)\n",
    "  print(X.shape, Y.shape)\n",
    "  return X, Y\n",
    "\n",
    "import random\n",
    "random.seed(42)\n",
    "random.shuffle(words)\n",
    "n1 = int(0.8*len(words))\n",
    "n2 = int(0.9*len(words))\n",
    "\n",
    "Xtr, Ytr = build_dataset(words[:n1])        # 80%\n",
    "Xdev, Ydev = build_dataset(words[n1:n2])    # 10%\n",
    "Xte, Yte = build_dataset(words[n2:])        # 10%"
   ]
  },
  {
   "cell_type": "code",
   "execution_count": 31,
   "metadata": {},
   "outputs": [
    {
     "name": "stdout",
     "output_type": "stream",
     "text": [
      "11897\n"
     ]
    }
   ],
   "source": [
    "n_embed = 10\n",
    "n_hidden = 200\n",
    "\n",
    "g = torch.Generator().manual_seed(2147483647) # for reproducibility\n",
    "C = torch.randn((vocab_size, n_embed), generator=g)\n",
    "# kaiming init\n",
    "# https://pytorch.org/docs/stable/nn.init.html\n",
    "# ((5/3) / ((n_embed * block_size) ** 0.5))\n",
    "# we scale W1 by this number which is 0.3\n",
    "# gain/sqrt(fan_in)\n",
    "W1 = torch.randn((n_embed * block_size, n_hidden), generator=g) * ((5/3) / ((n_embed * block_size) ** 0.5))\n",
    "b1 = torch.randn(n_hidden, generator=g) * 0.01\n",
    "W2 = torch.randn((n_hidden, vocab_size), generator=g) * 0.01\n",
    "b2 = torch.randn(vocab_size, generator=g) * 0\n",
    "bngain = torch.ones((1, n_hidden))\n",
    "bnbias = torch.zeros((1, n_hidden))\n",
    "bnmean_running = torch.zeros((1, n_hidden))\n",
    "bnstd_running = torch.ones((1, n_hidden))\n",
    "parameters = [C, W1, b1, W2, b2]\n",
    "print(sum(p.nelement() for p in parameters))\n",
    "for p in parameters:\n",
    "    p.requires_grad = True"
   ]
  },
  {
   "cell_type": "code",
   "execution_count": 32,
   "metadata": {},
   "outputs": [
    {
     "name": "stdout",
     "output_type": "stream",
     "text": [
      "      0/ 200000: 3.3147\n",
      "  10000/ 200000: 2.1942\n",
      "  20000/ 200000: 2.3443\n",
      "  30000/ 200000: 2.4160\n",
      "  40000/ 200000: 1.9913\n",
      "  50000/ 200000: 2.2978\n",
      "  60000/ 200000: 2.5254\n",
      "  70000/ 200000: 2.0707\n",
      "  80000/ 200000: 2.3107\n",
      "  90000/ 200000: 2.0663\n",
      " 100000/ 200000: 1.9933\n",
      " 110000/ 200000: 2.3179\n",
      " 120000/ 200000: 1.9123\n",
      " 130000/ 200000: 2.4505\n",
      " 140000/ 200000: 2.4321\n",
      " 150000/ 200000: 2.2003\n",
      " 160000/ 200000: 2.0463\n",
      " 170000/ 200000: 1.8839\n",
      " 180000/ 200000: 1.9983\n",
      " 190000/ 200000: 1.8873\n"
     ]
    }
   ],
   "source": [
    "max_steps = 200000\n",
    "batch_size = 32\n",
    "lossi = []\n",
    "\n",
    "for i in range(max_steps):\n",
    "    # minibatch construct\n",
    "    ix = torch.randint(0, Xtr.shape[0], (batch_size,), generator=g)\n",
    "    Xb, Yb = Xtr[ix], Ytr[ix]\n",
    "    # forward pass\n",
    "    emb = C[Xb] # (32, 3, 2)\n",
    "    embcat = emb.view(emb.shape[0], -1)\n",
    "    hpreact = embcat @ W1 + b1\n",
    "    bnmeani = hpreact.mean(0, keepdim=True)\n",
    "    bnstdi = hpreact.std(0, keepdim=True)\n",
    "    with torch.no_grad():\n",
    "        bnmean_running = 0.999 * bnmean_running + 0.001 * bnmeani\n",
    "        bnstd_running = 0.999 * bnstd_running + 0.001 * bnstdi\n",
    "\n",
    "    hpreact = bngain * ((hpreact - bnmeani) / bnstdi) + bnbias\n",
    "    h = torch.tanh(hpreact) # (32, 100)\n",
    "    logits = h @ W2 + b2 # (32, 27)\n",
    "    loss = F.cross_entropy(logits, Yb)\n",
    "\n",
    "    # backward pass\n",
    "    for p in parameters:\n",
    "        p.grad = None\n",
    "    loss.backward()\n",
    "\n",
    "    lr = 0.1 if i < 100000 else 0.01\n",
    "    # update\n",
    "    for p in parameters:\n",
    "        p.data += -lr * p.grad\n",
    "\n",
    "    if i % 10000 == 0:\n",
    "        print(f'{i:7d}/{max_steps:7d}: {loss.item():.4f}')\n",
    "    lossi.append(loss.log10().item())\n",
    "    # break"
   ]
  },
  {
   "cell_type": "code",
   "execution_count": 33,
   "metadata": {},
   "outputs": [
    {
     "data": {
      "text/plain": [
       "[<matplotlib.lines.Line2D at 0x128f4a8d0>]"
      ]
     },
     "execution_count": 33,
     "metadata": {},
     "output_type": "execute_result"
    },
    {
     "data": {
      "image/png": "[encoded data removed]",
      "text/plain": [
       "<Figure size 640x480 with 1 Axes>"
      ]
     },
     "metadata": {},
     "output_type": "display_data"
    }
   ],
   "source": [
    "plt.plot(lossi)"
   ]
  },
  {
   "cell_type": "code",
   "execution_count": 34,
   "metadata": {},
   "outputs": [],
   "source": [
    "\n",
    "with torch.no_grad():\n",
    "    # pass the training set through\n",
    "    emb = C[Xtr]\n",
    "    embcat = emb.view(emb.shape[0], -1)\n",
    "    hpreact = embcat @ W1 + b1\n",
    "    # measure the mean/std over the entire training set\n",
    "    bnmean = hpreact.mean(0, keepdim=True)\n",
    "    bnstd = hpreact.std(0, keepdim=True)"
   ]
  },
  {
   "cell_type": "code",
   "execution_count": 35,
   "metadata": {},
   "outputs": [
    {
     "data": {
      "text/plain": [
       "tensor([[-2.3177e+00, -3.6405e-01, -1.0247e+00,  1.2613e+00,  1.7141e+00,\n",
       "          1.0201e+00,  1.9386e+00, -2.2117e+00, -1.2373e-01,  1.3685e-01,\n",
       "         -1.7104e+00, -1.9277e+00, -8.8307e-01,  6.2152e-01, -2.6557e-01,\n",
       "         -6.3026e-01,  9.8004e-01, -2.2057e+00,  7.8213e-02,  7.9930e-01,\n",
       "         -5.3766e-01,  2.7581e-01,  6.1362e-01,  1.3937e+00,  7.1978e-01,\n",
       "          1.2883e+00,  1.4895e+00, -4.1137e-01,  8.4803e-01,  1.8169e+00,\n",
       "         -2.1954e-01, -1.3686e+00, -7.3394e-01, -1.0650e+00, -2.0063e-01,\n",
       "         -1.4059e+00, -1.8569e+00,  6.6707e-01, -8.5582e-01,  8.7046e-01,\n",
       "          6.2614e-02, -4.5244e-01, -4.9262e-01,  5.2697e-01,  1.1893e+00,\n",
       "          7.7382e-01,  2.7716e+00, -8.7592e-01,  1.5452e+00,  1.3719e+00,\n",
       "          8.8825e-01, -2.3701e-03,  1.7612e+00,  1.3297e+00,  9.8161e-01,\n",
       "         -1.8443e+00, -1.6664e-01,  6.6285e-01,  2.0306e+00, -2.8664e+00,\n",
       "         -4.7367e-01,  5.8872e-01,  7.6725e-02,  6.2640e-01,  2.2088e+00,\n",
       "          1.2394e+00, -3.6636e-01,  1.8061e+00, -5.2512e-01, -4.1916e-01,\n",
       "          9.9486e-02,  6.6494e-01,  8.8687e-01, -9.3406e-01, -3.1550e+00,\n",
       "          3.5342e-01,  1.0798e+00,  1.1582e-01, -8.8065e-01,  6.2557e-01,\n",
       "          1.1548e-01,  9.9285e-01,  1.8400e+00,  3.8568e-01, -3.2670e-01,\n",
       "          2.2386e-01, -2.3094e+00,  3.2178e-01,  8.9479e-01,  2.0054e-01,\n",
       "         -5.4891e-01,  1.4942e+00,  9.0222e-02, -1.0786e+00, -1.3499e+00,\n",
       "          2.6999e-01, -6.7097e-01, -5.7592e-01, -2.7844e-03, -1.6795e+00,\n",
       "          9.8155e-02,  1.1546e-01, -1.8026e+00,  6.3689e-01,  1.5455e+00,\n",
       "         -3.8499e-01, -4.6048e-01,  3.2243e-02,  1.2784e+00, -2.5135e-01,\n",
       "          1.8515e+00,  3.8242e-01, -7.8843e-02,  1.1899e+00,  2.1994e+00,\n",
       "          2.1090e+00, -2.6700e-01,  5.9343e-02,  4.0475e-01, -9.6921e-01,\n",
       "         -9.5791e-01, -1.0448e+00, -6.6178e-01,  1.0531e+00, -8.7806e-01,\n",
       "         -5.8545e-01,  3.8688e-01, -1.1830e+00, -1.1234e+00, -5.8975e-01,\n",
       "          2.5737e+00, -3.7160e-01,  1.0039e+00,  1.0756e+00,  9.1199e-01,\n",
       "          1.3093e+00,  1.1372e-02,  1.6292e+00,  2.0784e-01,  4.2393e-01,\n",
       "          1.1219e+00, -2.2555e-01,  2.4371e+00,  8.8969e-02,  5.7446e-01,\n",
       "          1.4566e+00,  2.9929e-01,  2.0826e-01,  4.5101e-01,  1.3875e+00,\n",
       "         -2.3975e+00, -6.5911e-03,  1.5802e+00,  1.0378e+00,  6.9416e-01,\n",
       "         -5.6285e-01,  1.5051e+00, -1.6873e+00, -1.0031e-01,  9.6657e-01,\n",
       "         -3.0682e-01, -1.3004e-02, -3.6890e-01, -1.7300e+00, -1.1585e+00,\n",
       "         -6.8662e-01, -8.1100e-02, -2.6127e-01, -2.9392e+00, -7.5174e-01,\n",
       "          1.6335e+00, -1.7873e+00,  3.2467e-01, -5.6855e-01, -1.4182e+00,\n",
       "          9.3942e-01,  1.3720e+00, -1.7282e+00,  5.8891e-01, -7.6605e-01,\n",
       "          2.3100e+00,  1.0329e+00,  4.5012e-01, -6.4139e-01,  1.0706e+00,\n",
       "          3.1840e-01, -9.5523e-01, -7.8453e-01,  2.7999e+00,  1.1671e+00,\n",
       "          3.2650e-01,  1.4954e+00, -3.4820e-01,  4.7963e-01,  6.2092e-01,\n",
       "          1.9162e+00,  1.2959e+00, -1.6453e+00,  4.2001e-01,  9.5729e-01]])"
      ]
     },
     "execution_count": 35,
     "metadata": {},
     "output_type": "execute_result"
    }
   ],
   "source": [
    "bnmean"
   ]
  },
  {
   "cell_type": "code",
   "execution_count": 36,
   "metadata": {},
   "outputs": [
    {
     "data": {
      "text/plain": [
       "tensor([[-2.3445e+00, -3.5034e-01, -1.0127e+00,  1.2629e+00,  1.7157e+00,\n",
       "          1.0085e+00,  1.9285e+00, -2.2175e+00, -1.2663e-01,  1.3021e-01,\n",
       "         -1.7290e+00, -1.9392e+00, -8.8938e-01,  6.0991e-01, -2.6687e-01,\n",
       "         -6.0494e-01,  9.8814e-01, -2.2140e+00,  6.0801e-02,  7.7775e-01,\n",
       "         -5.3136e-01,  2.8867e-01,  6.0593e-01,  1.3920e+00,  7.1696e-01,\n",
       "          1.2922e+00,  1.5023e+00, -4.1435e-01,  8.3973e-01,  1.8148e+00,\n",
       "         -2.3546e-01, -1.3639e+00, -7.2678e-01, -1.0638e+00, -1.9583e-01,\n",
       "         -1.4107e+00, -1.8722e+00,  6.5585e-01, -8.4154e-01,  8.7341e-01,\n",
       "          4.7281e-02, -4.7718e-01, -4.9639e-01,  5.2343e-01,  1.2032e+00,\n",
       "          7.9042e-01,  2.7750e+00, -8.7955e-01,  1.5351e+00,  1.3743e+00,\n",
       "          8.7428e-01, -8.4366e-03,  1.7559e+00,  1.3274e+00,  9.8032e-01,\n",
       "         -1.8463e+00, -1.6473e-01,  6.5882e-01,  2.0455e+00, -2.8682e+00,\n",
       "         -4.9856e-01,  5.8613e-01,  6.3064e-02,  6.2298e-01,  2.2022e+00,\n",
       "          1.2326e+00, -3.7524e-01,  1.7984e+00, -5.2425e-01, -4.0092e-01,\n",
       "          8.6836e-02,  6.8041e-01,  8.7291e-01, -9.1100e-01, -3.1453e+00,\n",
       "          3.3873e-01,  1.0929e+00,  1.3298e-01, -8.7533e-01,  6.1757e-01,\n",
       "          1.1488e-01,  9.7655e-01,  1.8089e+00,  3.9114e-01, -3.2179e-01,\n",
       "          2.2208e-01, -2.3064e+00,  3.1942e-01,  8.8715e-01,  2.1764e-01,\n",
       "         -5.4672e-01,  1.5015e+00,  9.3859e-02, -1.0831e+00, -1.3443e+00,\n",
       "          2.7512e-01, -6.8280e-01, -5.7687e-01, -1.1215e-02, -1.6630e+00,\n",
       "          9.9762e-02,  1.1950e-01, -1.8050e+00,  6.3493e-01,  1.5472e+00,\n",
       "         -3.7390e-01, -4.5636e-01,  4.2583e-02,  1.2881e+00, -2.6582e-01,\n",
       "          1.8534e+00,  3.9140e-01, -9.1483e-02,  1.1980e+00,  2.1848e+00,\n",
       "          2.0979e+00, -2.7603e-01,  3.8914e-02,  3.9793e-01, -9.6928e-01,\n",
       "         -9.6343e-01, -1.0392e+00, -6.6713e-01,  1.0604e+00, -8.8706e-01,\n",
       "         -5.8263e-01,  3.6552e-01, -1.1788e+00, -1.1091e+00, -6.0387e-01,\n",
       "          2.5679e+00, -3.7869e-01,  1.0107e+00,  1.0697e+00,  9.2988e-01,\n",
       "          1.3159e+00,  1.3384e-02,  1.6198e+00,  2.0990e-01,  4.3386e-01,\n",
       "          1.1312e+00, -2.4042e-01,  2.4514e+00,  9.8078e-02,  5.7091e-01,\n",
       "          1.4514e+00,  3.1905e-01,  1.9279e-01,  4.4851e-01,  1.3951e+00,\n",
       "         -2.4011e+00, -2.4854e-03,  1.5790e+00,  1.0281e+00,  6.8812e-01,\n",
       "         -5.6578e-01,  1.5124e+00, -1.6868e+00, -1.0656e-01,  9.4810e-01,\n",
       "         -3.1683e-01,  6.7985e-03, -3.6052e-01, -1.7126e+00, -1.1725e+00,\n",
       "         -7.0246e-01, -8.1253e-02, -2.6322e-01, -2.9299e+00, -7.4773e-01,\n",
       "          1.6153e+00, -1.7935e+00,  3.2420e-01, -5.6121e-01, -1.4244e+00,\n",
       "          9.4608e-01,  1.3598e+00, -1.7096e+00,  5.8515e-01, -7.6604e-01,\n",
       "          2.3056e+00,  1.0422e+00,  4.4341e-01, -6.4343e-01,  1.0491e+00,\n",
       "          3.1517e-01, -9.5634e-01, -7.9488e-01,  2.8179e+00,  1.1755e+00,\n",
       "          3.4279e-01,  1.5005e+00, -3.6518e-01,  4.7080e-01,  6.3425e-01,\n",
       "          1.9063e+00,  1.2972e+00, -1.6339e+00,  4.1243e-01,  9.4788e-01]])"
      ]
     },
     "execution_count": 36,
     "metadata": {},
     "output_type": "execute_result"
    }
   ],
   "source": [
    "bnmean_running"
   ]
  },
  {
   "cell_type": "code",
   "execution_count": 37,
   "metadata": {},
   "outputs": [
    {
     "data": {
      "text/plain": [
       "tensor([[2.5774, 2.0526, 2.3618, 2.1368, 2.1846, 2.4584, 2.0466, 2.3756, 2.1037,\n",
       "         2.1399, 2.6536, 2.3401, 2.0661, 2.2608, 2.1886, 2.6695, 2.4102, 1.9025,\n",
       "         2.3227, 2.2686, 2.1171, 2.4492, 2.2325, 2.2913, 2.2250, 2.1668, 2.2751,\n",
       "         2.2800, 2.3116, 2.4338, 1.9600, 1.9801, 2.2561, 2.2626, 2.2726, 2.3296,\n",
       "         4.0039, 2.3622, 2.9114, 1.9598, 2.0984, 2.1730, 2.3465, 2.1367, 2.3041,\n",
       "         2.5543, 2.1177, 2.7289, 2.1559, 2.6261, 2.1664, 2.0403, 2.1289, 1.9327,\n",
       "         2.1018, 2.3091, 2.0403, 2.1755, 2.9706, 1.8855, 2.1296, 2.1919, 2.0179,\n",
       "         2.2901, 2.3282, 2.1779, 2.0830, 2.5356, 2.2903, 2.2408, 2.3152, 2.0731,\n",
       "         1.9556, 2.2118, 1.9390, 1.8939, 2.5302, 2.5021, 1.9014, 2.1166, 2.3604,\n",
       "         2.1534, 2.1011, 2.2480, 2.6945, 2.3391, 2.0747, 2.4778, 2.4693, 2.6975,\n",
       "         2.0789, 2.0609, 2.3381, 2.1191, 2.2821, 2.2375, 2.2179, 2.0186, 1.9854,\n",
       "         2.1641, 1.9188, 2.2278, 2.0187, 2.1472, 2.0475, 2.2218, 2.0836, 2.2195,\n",
       "         2.1102, 2.2886, 2.2495, 2.3374, 2.3140, 2.2362, 2.4559, 2.3088, 2.2401,\n",
       "         2.2054, 2.0047, 2.1341, 2.1675, 2.0780, 2.2059, 2.0258, 2.1077, 2.3735,\n",
       "         2.2409, 2.1395, 2.1594, 2.2300, 2.1371, 2.5631, 2.3495, 2.2982, 2.1815,\n",
       "         2.1030, 2.2918, 2.9723, 1.9308, 2.1854, 2.1192, 2.2717, 2.3036, 2.0215,\n",
       "         2.2491, 2.2814, 2.1021, 2.1526, 2.1959, 1.9722, 1.9709, 2.2978, 1.9857,\n",
       "         2.3464, 2.2631, 2.2170, 2.1321, 1.9037, 1.9943, 1.8897, 2.4252, 2.1657,\n",
       "         2.1587, 2.4417, 2.3891, 2.1216, 2.1126, 1.9791, 2.2484, 2.2447, 1.8357,\n",
       "         2.0921, 2.3451, 2.2912, 2.2896, 2.1469, 2.3068, 2.1587, 2.4683, 1.9891,\n",
       "         2.5575, 2.0901, 2.4131, 2.0182, 2.1622, 2.2777, 2.2062, 2.3618, 2.7303,\n",
       "         2.4454, 1.8650, 2.2018, 2.1883, 1.9339, 2.0937, 2.0871, 2.0839, 2.6026,\n",
       "         2.3318, 2.0349]])"
      ]
     },
     "execution_count": 37,
     "metadata": {},
     "output_type": "execute_result"
    }
   ],
   "source": [
    "bnstd"
   ]
  },
  {
   "cell_type": "code",
   "execution_count": 38,
   "metadata": {},
   "outputs": [
    {
     "data": {
      "text/plain": [
       "tensor([[2.5580, 2.0259, 2.3437, 2.0971, 2.1464, 2.4192, 2.0358, 2.3379, 2.0753,\n",
       "         2.1125, 2.6360, 2.3071, 2.0328, 2.2406, 2.1564, 2.6491, 2.3797, 1.8880,\n",
       "         2.2961, 2.2555, 2.0928, 2.4227, 2.2089, 2.2715, 2.1994, 2.1408, 2.2422,\n",
       "         2.2530, 2.2899, 2.3981, 1.9297, 1.9795, 2.2543, 2.2400, 2.2635, 2.3003,\n",
       "         3.9886, 2.3289, 2.8939, 1.9369, 2.0768, 2.1449, 2.3070, 2.1090, 2.2740,\n",
       "         2.5338, 2.0946, 2.6711, 2.1303, 2.6143, 2.1326, 2.0205, 2.1046, 1.9140,\n",
       "         2.0781, 2.2856, 2.0190, 2.1540, 2.9517, 1.8699, 2.1071, 2.1764, 2.0069,\n",
       "         2.2686, 2.3052, 2.1526, 2.0627, 2.5060, 2.2668, 2.2101, 2.2896, 2.0534,\n",
       "         1.9384, 2.1881, 1.9209, 1.8762, 2.5127, 2.4779, 1.8812, 2.1026, 2.3317,\n",
       "         2.1260, 2.0704, 2.2261, 2.6732, 2.2952, 2.0393, 2.4467, 2.4558, 2.6842,\n",
       "         2.0571, 2.0345, 2.3218, 2.0948, 2.2767, 2.2084, 2.1994, 2.0006, 1.9556,\n",
       "         2.1482, 1.9117, 2.2045, 1.9926, 2.1346, 2.0226, 2.1964, 2.0625, 2.1777,\n",
       "         2.0909, 2.2477, 2.2211, 2.3113, 2.3033, 2.2034, 2.4439, 2.2880, 2.2088,\n",
       "         2.1668, 1.9763, 2.1154, 2.1365, 2.0550, 2.1859, 1.9886, 2.0792, 2.3466,\n",
       "         2.2224, 2.1202, 2.1372, 2.2023, 2.1179, 2.5391, 2.3198, 2.2949, 2.1633,\n",
       "         2.0804, 2.2627, 2.9603, 1.9102, 2.1525, 2.1007, 2.2497, 2.2937, 1.9955,\n",
       "         2.2114, 2.2411, 2.0850, 2.1215, 2.1798, 1.9450, 1.9594, 2.2824, 1.9555,\n",
       "         2.3241, 2.2479, 2.1821, 2.1063, 1.8719, 1.9740, 1.8684, 2.4116, 2.1478,\n",
       "         2.1452, 2.4288, 2.3647, 2.0956, 2.0864, 1.9518, 2.2157, 2.2073, 1.8324,\n",
       "         2.0736, 2.3276, 2.2748, 2.2697, 2.1214, 2.2667, 2.1270, 2.4382, 1.9593,\n",
       "         2.5043, 2.0689, 2.3856, 1.9959, 2.1318, 2.2591, 2.1768, 2.3363, 2.7217,\n",
       "         2.4170, 1.8572, 2.1833, 2.1554, 1.9191, 2.0656, 2.0495, 2.0682, 2.5747,\n",
       "         2.3240, 2.0181]])"
      ]
     },
     "execution_count": 38,
     "metadata": {},
     "output_type": "execute_result"
    }
   ],
   "source": [
    "bnstd_running"
   ]
  },
  {
   "cell_type": "code",
   "execution_count": 39,
   "metadata": {},
   "outputs": [
    {
     "name": "stdout",
     "output_type": "stream",
     "text": [
      "train 2.078073024749756\n",
      "val 2.1128151416778564\n"
     ]
    }
   ],
   "source": [
    "@torch.no_grad() # this decorator disables gradient tracking\n",
    "def split_loss(split):\n",
    "    x, y = {\n",
    "        'train': (Xtr, Ytr),\n",
    "        'val': (Xdev, Ydev),\n",
    "        'test': (Xte, Yte),\n",
    "    }[split]\n",
    "    emb = C[x] # (N, block_size, n_embed)\n",
    "    embcat = emb.view(emb.shape[0], -1) # concat into (N, block_size * n_embed)\n",
    "    hpreact = embcat @ W1 + b1\n",
    "    hpreact = bngain * ((hpreact - bnmean_running) / bnstd_running) + bnbias\n",
    "    h = torch.tanh(hpreact)\n",
    "    logits = h @ W2 + b2\n",
    "    loss = F.cross_entropy(logits, y)\n",
    "    print(split, loss.item())\n",
    "\n",
    "\n",
    "split_loss('train')\n",
    "split_loss('val')"
   ]
  },
  {
   "cell_type": "code",
   "execution_count": 40,
   "metadata": {},
   "outputs": [
    {
     "name": "stdout",
     "output_type": "stream",
     "text": [
      "carmahza.\n",
      "jahmelik.\n",
      "mri.\n",
      "reity.\n",
      "salaysie.\n",
      "mahnen.\n",
      "den.\n",
      "art.\n",
      "kaeli.\n",
      "nellara.\n",
      "chaiivon.\n",
      "leigh.\n",
      "ham.\n",
      "jore.\n",
      "quinthonor.\n",
      "marianni.\n",
      "watell.\n",
      "dearyni.\n",
      "jace.\n",
      "pius.\n"
     ]
    }
   ],
   "source": [
    "# sample from the model\n",
    "# sample from the model\n",
    "g = torch.Generator().manual_seed(2147483647 + 10)\n",
    "\n",
    "for _ in range(20):\n",
    "    \n",
    "    out = []\n",
    "    context = [0] * block_size # initialize with all ...\n",
    "    while True:\n",
    "      emb = C[torch.tensor([context])] # (1, block_size, n_embed)\n",
    "      embcat = emb.view(emb.shape[0], -1) # concat into (N, block_size * n_embed)\n",
    "      hpreact = embcat @ W1 + b1\n",
    "      hpreact = bngain * ((hpreact - bnmean_running) / bnstd_running) + bnbias\n",
    "      h = torch.tanh(hpreact)\n",
    "      logits = h @ W2 + b2\n",
    "      probs = F.softmax(logits, dim=1)\n",
    "      ix = torch.multinomial(probs, num_samples=1, generator=g).item()\n",
    "      context = context[1:] + [ix]\n",
    "      out.append(ix)\n",
    "      if ix == 0:\n",
    "        break\n",
    "    \n",
    "    print(''.join(itos[i] for i in out))"
   ]
  },
  {
   "cell_type": "code",
   "execution_count": null,
   "metadata": {},
   "outputs": [],
   "source": []
  }
 ],
 "metadata": {
  "kernelspec": {
   "display_name": "venv",
   "language": "python",
   "name": "python3"
  },
  "language_info": {
   "codemirror_mode": {
    "name": "ipython",
    "version": 3
   },
   "file_extension": ".py",
   "mimetype": "text/x-python",
   "name": "python",
   "nbconvert_exporter": "python",
   "pygments_lexer": "ipython3",
   "version": "3.11.3"
  }
 },
 "nbformat": 4,
 "nbformat_minor": 2
}
