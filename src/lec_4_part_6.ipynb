{
 "cells": [
  {
   "cell_type": "code",
   "execution_count": 35,
   "metadata": {},
   "outputs": [],
   "source": [
    "import torch\n",
    "import torch.nn.functional as F\n",
    "import matplotlib.pyplot as plt"
   ]
  },
  {
   "cell_type": "code",
   "execution_count": 36,
   "metadata": {},
   "outputs": [
    {
     "data": {
      "text/plain": [
       "['emma', 'olivia', 'ava', 'isabella', 'sophia', 'charlotte', 'mia', 'amelia']"
      ]
     },
     "execution_count": 36,
     "metadata": {},
     "output_type": "execute_result"
    }
   ],
   "source": [
    "words = open('names.txt', 'r').read().splitlines()\n",
    "words[:8]"
   ]
  },
  {
   "cell_type": "code",
   "execution_count": 37,
   "metadata": {},
   "outputs": [
    {
     "data": {
      "text/plain": [
       "32033"
      ]
     },
     "execution_count": 37,
     "metadata": {},
     "output_type": "execute_result"
    }
   ],
   "source": [
    "len(words)"
   ]
  },
  {
   "cell_type": "code",
   "execution_count": 38,
   "metadata": {},
   "outputs": [
    {
     "name": "stdout",
     "output_type": "stream",
     "text": [
      "{1: 'a', 2: 'b', 3: 'c', 4: 'd', 5: 'e', 6: 'f', 7: 'g', 8: 'h', 9: 'i', 10: 'j', 11: 'k', 12: 'l', 13: 'm', 14: 'n', 15: 'o', 16: 'p', 17: 'q', 18: 'r', 19: 's', 20: 't', 21: 'u', 22: 'v', 23: 'w', 24: 'x', 25: 'y', 26: 'z', 0: '.'}\n",
      "27\n"
     ]
    }
   ],
   "source": [
    "chars = [chr(i) for i in range(97, 97 + 26)]\n",
    "stoi = {s: i + 1 for i,s in enumerate(chars)}\n",
    "stoi['.'] = 0\n",
    "itos = {i:s for s,i in stoi.items()}\n",
    "vocab_size = len(itos)\n",
    "\n",
    "print(itos)\n",
    "print(vocab_size)"
   ]
  },
  {
   "cell_type": "code",
   "execution_count": 39,
   "metadata": {},
   "outputs": [
    {
     "name": "stdout",
     "output_type": "stream",
     "text": [
      "torch.Size([182625, 3]) torch.Size([182625])\n",
      "torch.Size([22655, 3]) torch.Size([22655])\n",
      "torch.Size([22866, 3]) torch.Size([22866])\n"
     ]
    }
   ],
   "source": [
    "# build the dataset\n",
    "block_size = 3 # context length: how many characters do we take to predict the next one?\n",
    "\n",
    "def build_dataset(words):  \n",
    "  X, Y = [], []\n",
    "  for w in words:\n",
    "\n",
    "    #print(w)\n",
    "    context = [0] * block_size\n",
    "    for ch in w + '.':\n",
    "      ix = stoi[ch]\n",
    "      X.append(context)\n",
    "      Y.append(ix)\n",
    "      #print(''.join(itos[i] for i in context), '--->', itos[ix])\n",
    "      context = context[1:] + [ix] # crop and append\n",
    "\n",
    "  X = torch.tensor(X)\n",
    "  Y = torch.tensor(Y)\n",
    "  print(X.shape, Y.shape)\n",
    "  return X, Y\n",
    "\n",
    "import random\n",
    "random.seed(42)\n",
    "random.shuffle(words)\n",
    "n1 = int(0.8*len(words))\n",
    "n2 = int(0.9*len(words))\n",
    "\n",
    "Xtr, Ytr = build_dataset(words[:n1])        # 80%\n",
    "Xdev, Ydev = build_dataset(words[n1:n2])    # 10%\n",
    "Xte, Yte = build_dataset(words[n2:])        # 10%"
   ]
  },
  {
   "cell_type": "code",
   "execution_count": 40,
   "metadata": {},
   "outputs": [
    {
     "name": "stdout",
     "output_type": "stream",
     "text": [
      "11897\n"
     ]
    }
   ],
   "source": [
    "n_embed = 10\n",
    "n_hidden = 200\n",
    "\n",
    "g = torch.Generator().manual_seed(2147483647) # for reproducibility\n",
    "C = torch.randn((vocab_size, n_embed), generator=g)\n",
    "# kaiming init\n",
    "# https://pytorch.org/docs/stable/nn.init.html\n",
    "# ((5/3) / ((n_embed * block_size) ** 0.5))\n",
    "# we scale W1 by this number which is 0.3\n",
    "# gain/sqrt(fan_in)\n",
    "W1 = torch.randn((n_embed * block_size, n_hidden), generator=g) * ((5/3) / ((n_embed * block_size) ** 0.5))\n",
    "b1 = torch.randn(n_hidden, generator=g) * 0.01\n",
    "W2 = torch.randn((n_hidden, vocab_size), generator=g) * 0.01\n",
    "b2 = torch.randn(vocab_size, generator=g) * 0\n",
    "parameters = [C, W1, b1, W2, b2]\n",
    "print(sum(p.nelement() for p in parameters))\n",
    "for p in parameters:\n",
    "    p.requires_grad = True"
   ]
  },
  {
   "cell_type": "code",
   "execution_count": 41,
   "metadata": {},
   "outputs": [
    {
     "name": "stdout",
     "output_type": "stream",
     "text": [
      "      0/ 200000: 3.3179\n",
      "  10000/ 200000: 2.1910\n",
      "  20000/ 200000: 2.3270\n",
      "  30000/ 200000: 2.5396\n",
      "  40000/ 200000: 1.9468\n",
      "  50000/ 200000: 2.3331\n",
      "  60000/ 200000: 2.3852\n",
      "  70000/ 200000: 2.1173\n",
      "  80000/ 200000: 2.3159\n",
      "  90000/ 200000: 2.2010\n",
      " 100000/ 200000: 1.8591\n",
      " 110000/ 200000: 2.0881\n",
      " 120000/ 200000: 1.9389\n",
      " 130000/ 200000: 2.3913\n",
      " 140000/ 200000: 2.0949\n",
      " 150000/ 200000: 2.1458\n",
      " 160000/ 200000: 1.7824\n",
      " 170000/ 200000: 1.7249\n",
      " 180000/ 200000: 1.9752\n",
      " 190000/ 200000: 1.8614\n"
     ]
    }
   ],
   "source": [
    "max_steps = 200000\n",
    "batch_size = 32\n",
    "lossi = []\n",
    "\n",
    "for i in range(max_steps):\n",
    "    # minibatch construct\n",
    "    ix = torch.randint(0, Xtr.shape[0], (batch_size,), generator=g)\n",
    "    Xb, Yb = Xtr[ix], Ytr[ix]\n",
    "    # forward pass\n",
    "    emb = C[Xb] # (32, 3, 2)\n",
    "    embcat = emb.view(emb.shape[0], -1)\n",
    "    hpreact = embcat @ W1 + b1\n",
    "    h = torch.tanh(hpreact) # (32, 100)\n",
    "    logits = h @ W2 + b2 # (32, 27)\n",
    "    loss = F.cross_entropy(logits, Yb)\n",
    "\n",
    "    # backward pass\n",
    "    for p in parameters:\n",
    "        p.grad = None\n",
    "    loss.backward()\n",
    "\n",
    "    lr = 0.1 if i < 100000 else 0.01\n",
    "    # update\n",
    "    for p in parameters:\n",
    "        p.data += -lr * p.grad\n",
    "\n",
    "    if i % 10000 == 0:\n",
    "        print(f'{i:7d}/{max_steps:7d}: {loss.item():.4f}')\n",
    "    lossi.append(loss.log10().item())"
   ]
  },
  {
   "cell_type": "code",
   "execution_count": 42,
   "metadata": {},
   "outputs": [
    {
     "data": {
      "text/plain": [
       "[<matplotlib.lines.Line2D at 0x16c64c910>]"
      ]
     },
     "execution_count": 42,
     "metadata": {},
     "output_type": "execute_result"
    },
    {
     "data": {
      "image/png": "[encoded data removed]",
      "text/plain": [
       "<Figure size 640x480 with 1 Axes>"
      ]
     },
     "metadata": {},
     "output_type": "display_data"
    }
   ],
   "source": [
    "plt.plot(lossi)"
   ]
  },
  {
   "cell_type": "code",
   "execution_count": 43,
   "metadata": {},
   "outputs": [
    {
     "name": "stdout",
     "output_type": "stream",
     "text": [
      "train 2.0376644134521484\n",
      "val 2.106989622116089\n"
     ]
    }
   ],
   "source": [
    "@torch.no_grad() # this decorator disables gradient tracking\n",
    "def split_loss(split):\n",
    "    x, y = {\n",
    "        'train': (Xtr, Ytr),\n",
    "        'val': (Xdev, Ydev),\n",
    "        'test': (Xte, Yte),\n",
    "    }[split]\n",
    "    emb = C[x] # (N, block_size, n_embed)\n",
    "    embcat = emb.view(emb.shape[0], -1) # concat into (N, block_size * n_embed)\n",
    "    h = torch.tanh(embcat @ W1 + b1)\n",
    "    logits = h @ W2 + b2\n",
    "    loss = F.cross_entropy(logits, y)\n",
    "    print(split, loss.item())\n",
    "\n",
    "\n",
    "split_loss('train')\n",
    "split_loss('val')"
   ]
  },
  {
   "cell_type": "code",
   "execution_count": 44,
   "metadata": {},
   "outputs": [
    {
     "name": "stdout",
     "output_type": "stream",
     "text": [
      "carmahzaylyn.\n",
      "kiffinleige.\n",
      "tyrencessa.\n",
      "jazon.\n",
      "nadelynn.\n",
      "jareei.\n",
      "nellara.\n",
      "chaiivan.\n",
      "legyn.\n",
      "ham.\n",
      "joce.\n",
      "quint.\n",
      "salin.\n",
      "alianni.\n",
      "waveron.\n",
      "jaryxin.\n",
      "kaellissa.\n",
      "med.\n",
      "edi.\n",
      "abette.\n"
     ]
    }
   ],
   "source": [
    "# sample from the model\n",
    "# sample from the model\n",
    "g = torch.Generator().manual_seed(2147483647 + 10)\n",
    "\n",
    "for _ in range(20):\n",
    "    \n",
    "    out = []\n",
    "    context = [0] * block_size # initialize with all ...\n",
    "    while True:\n",
    "      emb = C[torch.tensor([context])] # (1, block_size, n_embed)\n",
    "      h = torch.tanh(emb.view(1, -1) @ W1 + b1)\n",
    "      logits = h @ W2 + b2\n",
    "      probs = F.softmax(logits, dim=1)\n",
    "      ix = torch.multinomial(probs, num_samples=1, generator=g).item()\n",
    "      context = context[1:] + [ix]\n",
    "      out.append(ix)\n",
    "      if ix == 0:\n",
    "        break\n",
    "    \n",
    "    print(''.join(itos[i] for i in out))"
   ]
  },
  {
   "cell_type": "code",
   "execution_count": 45,
   "metadata": {},
   "outputs": [
    {
     "data": {
      "text/plain": [
       "tensor(1.0034)"
      ]
     },
     "execution_count": 45,
     "metadata": {},
     "output_type": "execute_result"
    }
   ],
   "source": [
    "# guassian distribution has a standard deviation of 1\n",
    "\n",
    "torch.randn(10000).std()"
   ]
  },
  {
   "cell_type": "code",
   "execution_count": 46,
   "metadata": {},
   "outputs": [
    {
     "data": {
      "text/plain": [
       "tensor(0.2006)"
      ]
     },
     "execution_count": 46,
     "metadata": {},
     "output_type": "execute_result"
    }
   ],
   "source": [
    "# multiplying by a value < 1, scales down the standard deviation to that value\n",
    "\n",
    "(torch.randn(10000) * 0.2).std()"
   ]
  },
  {
   "cell_type": "code",
   "execution_count": 47,
   "metadata": {},
   "outputs": [
    {
     "data": {
      "text/plain": [
       "0.3042903097250923"
      ]
     },
     "execution_count": 47,
     "metadata": {},
     "output_type": "execute_result"
    }
   ],
   "source": [
    "# for our dataset we want to scale std deviation down to 0.3\n",
    "# for tanh, gain = 5/3\n",
    "# multiply by gain/sqrt(fan_in)\n",
    "\n",
    "\n",
    "(5/3) / (30 ** 0.5)"
   ]
  },
  {
   "cell_type": "code",
   "execution_count": 48,
   "metadata": {},
   "outputs": [
    {
     "name": "stdout",
     "output_type": "stream",
     "text": [
      "tensor(-0.0046) tensor(1.0012)\n",
      "tensor(0.0048) tensor(3.1834)\n"
     ]
    },
    {
     "data": {
      "text/plain": [
       "(array([1.46657260e-05, 1.46657260e-05, 2.19985889e-05, 4.39971779e-05,\n",
       "        1.02660082e-04, 1.31991534e-04, 3.44644560e-04, 4.76636094e-04,\n",
       "        9.60605051e-04, 1.27591816e-03, 2.44184337e-03, 3.73976012e-03,\n",
       "        5.77096317e-03, 8.40346098e-03, 1.30891604e-02, 1.88894550e-02,\n",
       "        2.67942813e-02, 3.77349129e-02, 5.14766981e-02, 6.68023818e-02,\n",
       "        8.58898241e-02, 1.02909399e-01, 1.21454210e-01, 1.31551562e-01,\n",
       "        1.35877951e-01, 1.31602892e-01, 1.16387201e-01, 9.93969577e-02,\n",
       "        8.07494872e-02, 6.42138811e-02, 4.86022158e-02, 3.43984603e-02,\n",
       "        2.52397144e-02, 1.75475411e-02, 1.14612648e-02, 7.60417891e-03,\n",
       "        4.99367969e-03, 3.13846536e-03, 1.92121010e-03, 1.30524961e-03,\n",
       "        7.55284887e-04, 4.47304642e-04, 2.71315930e-04, 1.53990123e-04,\n",
       "        3.66643149e-05, 9.53272188e-05, 1.46657260e-05, 0.00000000e+00,\n",
       "        7.33286298e-06, 1.46657260e-05]),\n",
       " array([-16.62052536, -15.93866344, -15.25680153, -14.57493961,\n",
       "        -13.8930777 , -13.21121578, -12.52935387, -11.84749195,\n",
       "        -11.16563004, -10.48376812,  -9.8019062 ,  -9.12004429,\n",
       "         -8.43818237,  -7.75632046,  -7.07445854,  -6.39259663,\n",
       "         -5.71073471,  -5.0288728 ,  -4.34701088,  -3.66514896,\n",
       "         -2.98328705,  -2.30142513,  -1.61956322,  -0.9377013 ,\n",
       "         -0.25583939,   0.42602253,   1.10788445,   1.78974636,\n",
       "          2.47160828,   3.15347019,   3.83533211,   4.51719402,\n",
       "          5.19905594,   5.88091785,   6.56277977,   7.24464169,\n",
       "          7.9265036 ,   8.60836552,   9.29022743,   9.97208935,\n",
       "         10.65395126,  11.33581318,  12.01767509,  12.69953701,\n",
       "         13.38139893,  14.06326084,  14.74512276,  15.42698467,\n",
       "         16.10884659,  16.7907085 ,  17.47257042]),\n",
       " <BarContainer object of 50 artists>)"
      ]
     },
     "execution_count": 48,
     "metadata": {},
     "output_type": "execute_result"
    },
    {
     "data": {
      "image/png": "[encoded data removed]",
      "text/plain": [
       "<Figure size 2000x500 with 2 Axes>"
      ]
     },
     "metadata": {},
     "output_type": "display_data"
    }
   ],
   "source": [
    "x = torch.randn(1000, 10)\n",
    "w = torch.randn(10, 200) \n",
    "\n",
    "y = x @ w\n",
    "print(x.mean(), x.std())\n",
    "print(y.mean(), y.std()) # standard deviation increases\n",
    "plt.figure(figsize=(20, 5))\n",
    "plt.subplot(121)\n",
    "plt.hist(x.view(-1).tolist(), 50, density=True)\n",
    "plt.subplot(122)\n",
    "plt.hist(y.view(-1).tolist(), 50, density=True)"
   ]
  },
  {
   "cell_type": "code",
   "execution_count": 49,
   "metadata": {},
   "outputs": [
    {
     "name": "stdout",
     "output_type": "stream",
     "text": [
      "tensor(-0.0095) tensor(1.0093)\n",
      "tensor(0.0011) tensor(0.6479)\n"
     ]
    },
    {
     "data": {
      "text/plain": [
       "(array([6.32668323e-05, 9.49002484e-05, 9.49002484e-05, 1.89800497e-04,\n",
       "        9.49002484e-05, 4.42867826e-04, 5.69401490e-04, 7.27568571e-04,\n",
       "        1.39187031e-03, 3.06844136e-03, 3.98581043e-03, 7.37058596e-03,\n",
       "        1.00277929e-02, 1.56269076e-02, 2.85333413e-02, 4.27367452e-02,\n",
       "        6.71577424e-02, 9.80635900e-02, 1.49657692e-01, 2.19124674e-01,\n",
       "        3.02826693e-01, 4.06805731e-01, 5.25083074e-01, 6.26183472e-01,\n",
       "        6.70723322e-01, 6.75310167e-01, 6.22703796e-01, 5.11227638e-01,\n",
       "        4.00320881e-01, 3.03459361e-01, 2.13082691e-01, 1.46715784e-01,\n",
       "        9.78737895e-02, 6.51648372e-02, 4.16928425e-02, 2.57812341e-02,\n",
       "        1.67024437e-02, 9.61655850e-03, 6.48485031e-03, 4.30214459e-03,\n",
       "        1.96127180e-03, 1.13880298e-03, 8.54102235e-04, 7.90835403e-04,\n",
       "        4.11234410e-04, 2.53067329e-04, 6.32668323e-05, 3.16334161e-05,\n",
       "        0.00000000e+00, 9.49002484e-05]),\n",
       " array([-3.94575763, -3.78769692, -3.62963622, -3.47157552, -3.31351481,\n",
       "        -3.15545411, -2.99739341, -2.8393327 , -2.681272  , -2.5232113 ,\n",
       "        -2.36515059, -2.20708989, -2.04902919, -1.89096848, -1.73290778,\n",
       "        -1.57484708, -1.41678638, -1.25872567, -1.10066497, -0.94260427,\n",
       "        -0.78454356, -0.62648286, -0.46842216, -0.31036145, -0.15230075,\n",
       "         0.00575995,  0.16382066,  0.32188136,  0.47994206,  0.63800277,\n",
       "         0.79606347,  0.95412417,  1.11218488,  1.27024558,  1.42830628,\n",
       "         1.58636699,  1.74442769,  1.90248839,  2.0605491 ,  2.2186098 ,\n",
       "         2.3766705 ,  2.53473121,  2.69279191,  2.85085261,  3.00891332,\n",
       "         3.16697402,  3.32503472,  3.48309543,  3.64115613,  3.79921683,\n",
       "         3.95727754]),\n",
       " <BarContainer object of 50 artists>)"
      ]
     },
     "execution_count": 49,
     "metadata": {},
     "output_type": "execute_result"
    },
    {
     "data": {
      "image/png": "[encoded data removed]",
      "text/plain": [
       "<Figure size 2000x500 with 2 Axes>"
      ]
     },
     "metadata": {},
     "output_type": "display_data"
    }
   ],
   "source": [
    "x = torch.randn(1000, 10)\n",
    "w = torch.randn(10, 200) * 0.2\n",
    "\n",
    "y = x @ w\n",
    "print(x.mean(), x.std())\n",
    "print(y.mean(), y.std())\n",
    "plt.figure(figsize=(20, 5))\n",
    "plt.subplot(121)\n",
    "plt.hist(x.view(-1).tolist(), 50, density=True)\n",
    "plt.subplot(122)\n",
    "plt.hist(y.view(-1).tolist(), 50, density=True)"
   ]
  },
  {
   "cell_type": "code",
   "execution_count": 50,
   "metadata": {},
   "outputs": [
    {
     "name": "stdout",
     "output_type": "stream",
     "text": [
      "tensor(-0.0076) tensor(0.9983)\n",
      "tensor(0.0003) tensor(0.9944)\n"
     ]
    },
    {
     "data": {
      "text/plain": [
       "(array([2.12531601e-05, 2.12531601e-05, 2.12531601e-05, 6.37594802e-05,\n",
       "        2.12531601e-04, 2.12531601e-04, 4.88822682e-04, 5.31329002e-04,\n",
       "        1.63649333e-03, 2.55037921e-03, 4.39940414e-03, 7.11980863e-03,\n",
       "        1.12641748e-02, 1.80651861e-02, 2.89468040e-02, 4.36964971e-02,\n",
       "        7.00929219e-02, 1.00293662e-01, 1.49218437e-01, 1.98589528e-01,\n",
       "        2.67067210e-01, 3.29211450e-01, 3.83619539e-01, 4.27464809e-01,\n",
       "        4.31417896e-01, 4.05340269e-01, 3.49508217e-01, 2.93739925e-01,\n",
       "        2.24390864e-01, 1.61524017e-01, 1.16361051e-01, 8.03794514e-02,\n",
       "        5.40467861e-02, 3.39200435e-02, 2.09131095e-02, 1.33894908e-02,\n",
       "        8.33123875e-03, 5.31329002e-03, 2.91168293e-03, 1.87027809e-03,\n",
       "        1.04140484e-03, 6.16341642e-04, 2.97544241e-04, 2.55037921e-04,\n",
       "        1.48772121e-04, 2.12531601e-05, 2.12531601e-05, 2.12531601e-05,\n",
       "        2.12531601e-05, 2.12531601e-05]),\n",
       " array([-5.68945169, -5.45419256, -5.21893343, -4.9836743 , -4.74841516,\n",
       "        -4.51315603, -4.2778969 , -4.04263777, -3.80737864, -3.5721195 ,\n",
       "        -3.33686037, -3.10160124, -2.86634211, -2.63108297, -2.39582384,\n",
       "        -2.16056471, -1.92530558, -1.69004644, -1.45478731, -1.21952818,\n",
       "        -0.98426905, -0.74900991, -0.51375078, -0.27849165, -0.04323252,\n",
       "         0.19202662,  0.42728575,  0.66254488,  0.89780401,  1.13306314,\n",
       "         1.36832228,  1.60358141,  1.83884054,  2.07409967,  2.30935881,\n",
       "         2.54461794,  2.77987707,  3.0151362 ,  3.25039534,  3.48565447,\n",
       "         3.7209136 ,  3.95617273,  4.19143187,  4.426691  ,  4.66195013,\n",
       "         4.89720926,  5.1324684 ,  5.36772753,  5.60298666,  5.83824579,\n",
       "         6.07350492]),\n",
       " <BarContainer object of 50 artists>)"
      ]
     },
     "execution_count": 50,
     "metadata": {},
     "output_type": "execute_result"
    },
    {
     "data": {
      "image/png": "[encoded data removed]",
      "text/plain": [
       "<Figure size 2000x500 with 2 Axes>"
      ]
     },
     "metadata": {},
     "output_type": "display_data"
    }
   ],
   "source": [
    "x = torch.randn(1000, 10)\n",
    "w = torch.randn(10, 200) / (10**0.5)\n",
    "# for linear below works\n",
    "# 1 / (sqrt(fan_in))\n",
    "\n",
    "y = x @ w\n",
    "print(x.mean(), x.std())\n",
    "print(y.mean(), y.std())\n",
    "plt.figure(figsize=(20, 5))\n",
    "plt.subplot(121)\n",
    "plt.hist(x.view(-1).tolist(), 50, density=True)\n",
    "plt.subplot(122)\n",
    "plt.hist(y.view(-1).tolist(), 50, density=True)"
   ]
  },
  {
   "cell_type": "code",
   "execution_count": null,
   "metadata": {},
   "outputs": [],
   "source": []
  }
 ],
 "metadata": {
  "kernelspec": {
   "display_name": "venv",
   "language": "python",
   "name": "python3"
  },
  "language_info": {
   "codemirror_mode": {
    "name": "ipython",
    "version": 3
   },
   "file_extension": ".py",
   "mimetype": "text/x-python",
   "name": "python",
   "nbconvert_exporter": "python",
   "pygments_lexer": "ipython3",
   "version": "3.11.3"
  }
 },
 "nbformat": 4,
 "nbformat_minor": 2
}
